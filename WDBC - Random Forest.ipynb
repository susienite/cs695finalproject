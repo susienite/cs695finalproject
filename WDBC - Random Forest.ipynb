{
 "cells": [
  {
   "cell_type": "code",
   "execution_count": 4,
   "id": "5ba16173-737b-4e2a-a87a-1cc151ed4f30",
   "metadata": {
    "tags": []
   },
   "outputs": [],
   "source": [
    "import numpy as np\n",
    "import pandas as pd\n",
    "from sklearn.metrics import accuracy_score\n",
    "from sklearn.model_selection import train_test_split\n",
    "from sklearn.ensemble import RandomForestRegressor\n",
    "\n",
    "col_names = ['ID', 'Diagnosis', 'radius_mean', 'texture_mean', 'perimeter_mean', 'area_mean', 'smoothness_mean', 'compactness_mean', 'concavity_mean', 'concave_points_mean', 'symmetry_mean', 'fractal_dimension_mean',\n",
    "            'radius_se', 'texture_se', 'perimeter_se', 'area_se', 'smoothness_se', 'compactness_se', 'concavity_se', 'concave_points_se', 'symmetry_se', 'fractal_dimension_se',\n",
    "            'radius_worst', 'texture_worst', 'perimeter_worst', 'area_worst', 'smoothness_worst', 'compactness_worst', 'concavity_worst', 'concave_points_worst', 'symmetry_worst', 'fractal_dimension_worst']\n",
    "wdbc = pd.read_csv('wdbc.data', sep = ',', names = col_names)\n",
    "wdbc = wdbc.drop('ID', axis = 1)"
   ]
  },
  {
   "cell_type": "code",
   "execution_count": 5,
   "id": "947bdaa3-29e2-4398-8215-34466b950487",
   "metadata": {
    "tags": []
   },
   "outputs": [],
   "source": [
    "# separate X and y data\n",
    "diagnosis = wdbc['Diagnosis']\n",
    "diagnosis = diagnosis.map({'M': 1, 'B': 0})\n",
    "wdbc_x = wdbc.drop('Diagnosis', axis = 1)\n",
    "\n",
    "# split into testing and training data\n",
    "features_train,features_test,labels_train,labels_test = train_test_split(wdbc_x, diagnosis,test_size = 0.2, random_state = 42)"
   ]
  },
  {
   "cell_type": "code",
   "execution_count": 6,
   "id": "6d583286-6dd2-45a4-838c-09995aee54eb",
   "metadata": {
    "tags": []
   },
   "outputs": [
    {
     "name": "stdout",
     "output_type": "stream",
     "text": [
      "RandomForestRegressor 0.9122807017543859\n"
     ]
    }
   ],
   "source": [
    "# train random forest, 10 trees\n",
    "rf = RandomForestRegressor(n_estimators = 10, random_state = 42)\n",
    "\n",
    "# Random Forest w/out optimal parameters\n",
    "rf.fit(features_train, labels_train)\n",
    "y_pred = rf.predict(features_test)\n",
    "y_pred = [int(x) for x in y_pred]\n",
    "print(rf.__class__.__name__, accuracy_score(labels_test, y_pred))"
   ]
  },
  {
   "cell_type": "code",
   "execution_count": 8,
   "id": "d3a60d72-1ea1-4711-adbb-5d6705a75a4f",
   "metadata": {
    "tags": []
   },
   "outputs": [
    {
     "name": "stdout",
     "output_type": "stream",
     "text": [
      "Variable: concave_points_worst Importance: 0.28\n",
      "Variable: perimeter_worst      Importance: 0.23\n",
      "Variable: area_worst           Importance: 0.17\n",
      "Variable: radius_worst         Importance: 0.1\n",
      "Variable: concave_points_mean  Importance: 0.09\n",
      "Variable: texture_worst        Importance: 0.02\n",
      "Variable: texture_mean         Importance: 0.01\n",
      "Variable: smoothness_mean      Importance: 0.01\n",
      "Variable: concavity_mean       Importance: 0.01\n",
      "Variable: area_se              Importance: 0.01\n",
      "Variable: smoothness_se        Importance: 0.01\n",
      "Variable: concavity_se         Importance: 0.01\n",
      "Variable: symmetry_se          Importance: 0.01\n",
      "Variable: fractal_dimension_se Importance: 0.01\n",
      "Variable: concavity_worst      Importance: 0.01\n",
      "Variable: radius_mean          Importance: 0.0\n",
      "Variable: perimeter_mean       Importance: 0.0\n",
      "Variable: area_mean            Importance: 0.0\n",
      "Variable: compactness_mean     Importance: 0.0\n",
      "Variable: symmetry_mean        Importance: 0.0\n",
      "Variable: fractal_dimension_mean Importance: 0.0\n",
      "Variable: radius_se            Importance: 0.0\n",
      "Variable: texture_se           Importance: 0.0\n",
      "Variable: perimeter_se         Importance: 0.0\n",
      "Variable: compactness_se       Importance: 0.0\n",
      "Variable: concave_points_se    Importance: 0.0\n",
      "Variable: smoothness_worst     Importance: 0.0\n",
      "Variable: compactness_worst    Importance: 0.0\n",
      "Variable: symmetry_worst       Importance: 0.0\n",
      "Variable: fractal_dimension_worst Importance: 0.0\n"
     ]
    },
    {
     "data": {
      "text/plain": [
       "[None,\n",
       " None,\n",
       " None,\n",
       " None,\n",
       " None,\n",
       " None,\n",
       " None,\n",
       " None,\n",
       " None,\n",
       " None,\n",
       " None,\n",
       " None,\n",
       " None,\n",
       " None,\n",
       " None,\n",
       " None,\n",
       " None,\n",
       " None,\n",
       " None,\n",
       " None,\n",
       " None,\n",
       " None,\n",
       " None,\n",
       " None,\n",
       " None,\n",
       " None,\n",
       " None,\n",
       " None,\n",
       " None,\n",
       " None]"
      ]
     },
     "execution_count": 8,
     "metadata": {},
     "output_type": "execute_result"
    }
   ],
   "source": [
    "# Get numerical feature importances\n",
    "importances = list(rf.feature_importances_)# List of tuples with variable and importance\n",
    "feature_importances = [(feature, round(importance, 2)) for feature, importance in zip(list(features_train.columns), importances)]# Sort the feature importances by most important first\n",
    "feature_importances = sorted(feature_importances, key = lambda x: x[1], reverse = True)# Print out the feature and importances \n",
    "[print('Variable: {:20} Importance: {}'.format(*pair)) for pair in feature_importances]"
   ]
  },
  {
   "cell_type": "code",
   "execution_count": 16,
   "id": "b9c79912-eb16-491e-9a2c-dcc54d15ec7f",
   "metadata": {
    "tags": []
   },
   "outputs": [
    {
     "name": "stdout",
     "output_type": "stream",
     "text": [
      "RandomForestRegressor 0.9385964912280702\n"
     ]
    }
   ],
   "source": [
    "# isolate most important features\n",
    "new_features_train = features_train[['concave_points_worst', 'perimeter_worst', 'area_worst', 'radius_worst', 'concave_points_mean', \n",
    "                                    'texture_worst', 'smoothness_mean', 'concavity_mean', 'area_se', 'smoothness_se', 'concavity_se']]\n",
    "new_features_test = features_test[['concave_points_worst', 'perimeter_worst', 'area_worst', 'radius_worst', 'concave_points_mean', \n",
    "                                    'texture_worst', 'smoothness_mean', 'concavity_mean', 'area_se', 'smoothness_se', 'concavity_se']]\n",
    "\n",
    "rf = RandomForestRegressor(n_estimators = 10, random_state = 42)\n",
    "\n",
    "# Random Forest w/out optimal parameters\n",
    "rf.fit(new_features_train, labels_train)\n",
    "y_pred = rf.predict(new_features_test)\n",
    "y_pred = [int(x) for x in y_pred]\n",
    "print(rf.__class__.__name__, accuracy_score(labels_test, y_pred))"
   ]
  },
  {
   "cell_type": "code",
   "execution_count": null,
   "id": "5009ddd6-95e4-4bbb-a898-02aa210fb5c7",
   "metadata": {},
   "outputs": [],
   "source": []
  }
 ],
 "metadata": {
  "kernelspec": {
   "display_name": "Python 3 (ipykernel)",
   "language": "python",
   "name": "python3"
  },
  "language_info": {
   "codemirror_mode": {
    "name": "ipython",
    "version": 3
   },
   "file_extension": ".py",
   "mimetype": "text/x-python",
   "name": "python",
   "nbconvert_exporter": "python",
   "pygments_lexer": "ipython3",
   "version": "3.11.3"
  }
 },
 "nbformat": 4,
 "nbformat_minor": 5
}
